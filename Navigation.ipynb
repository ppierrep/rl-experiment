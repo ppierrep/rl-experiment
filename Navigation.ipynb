{
 "cells": [
  {
   "cell_type": "code",
   "execution_count": null,
   "metadata": {
    "scrolled": true
   },
   "outputs": [],
   "source": [
    "from unityagents import UnityEnvironment\n",
    "import numpy as np"
   ]
  },
  {
   "cell_type": "code",
   "execution_count": null,
   "metadata": {},
   "outputs": [],
   "source": [
    "from IPython.display import clear_output\n",
    "import matplotlib.pyplot as plt\n",
    "%matplotlib inline "
   ]
  },
  {
   "cell_type": "code",
   "execution_count": null,
   "metadata": {
    "scrolled": true
   },
   "outputs": [],
   "source": [
    "env = UnityEnvironment(file_name=\"env/Banana_Linux_NoVis/Banana.x86\", base_port=64738, worker_id=1, seed=1)"
   ]
  },
  {
   "cell_type": "markdown",
   "metadata": {},
   "source": [
    "Environments contain **_brains_** which are responsible for deciding the actions of their associated agents. Here we check for the first brain available, and set it as the default brain we will be controlling from Python."
   ]
  },
  {
   "cell_type": "code",
   "execution_count": null,
   "metadata": {},
   "outputs": [],
   "source": [
    "# get the default brain\n",
    "brain_name = env.brain_names[0]\n",
    "brain = env.brains[brain_name]"
   ]
  },
  {
   "cell_type": "code",
   "execution_count": null,
   "metadata": {},
   "outputs": [],
   "source": [
    "# reset the environment\n",
    "env_info = env.reset(train_mode=False)[brain_name]\n",
    "\n",
    "# number of agents in the environment\n",
    "print('Number of agents:', len(env_info.agents))\n",
    "\n",
    "# number of actions\n",
    "action_size = brain.vector_action_space_size\n",
    "print('Number of actions:', action_size)\n",
    "\n",
    "# examine the state space \n",
    "state = env_info.vector_observations[0]\n",
    "print('States look like:', state)\n",
    "state_size = len(state)\n",
    "print('States have length:', state_size)"
   ]
  },
  {
   "cell_type": "code",
   "execution_count": null,
   "metadata": {},
   "outputs": [],
   "source": [
    "def plot(rewards, losses, action_takens):\n",
    "    clear_output(True)\n",
    "    plt.figure(figsize=(20,5))\n",
    "\n",
    "    plt.subplot(131)\n",
    "    plt.title('rewards')\n",
    "    plt.plot(rewards)\n",
    "\n",
    "    plt.subplot(132)\n",
    "    plt.title('loss')\n",
    "    plt.plot(losses)\n",
    "\n",
    "    plt.subplot(133)\n",
    "    unique, counts = np.unique(action_takens, return_counts=True)\n",
    "    plt.bar(unique, counts/np.sum(counts))\n",
    "    plt.title(\"Action distribution\")\n",
    "\n",
    "    plt.show()"
   ]
  },
  {
   "cell_type": "code",
   "execution_count": null,
   "metadata": {},
   "outputs": [],
   "source": [
    "from agent import DqnAgent\n",
    "from unityagents import UnityEnvironment\n",
    "import numpy as np\n",
    "\n",
    "# get the default brain\n",
    "brain_name = env.brain_names[0]\n",
    "brain = env.brains[brain_name]\n",
    "\n",
    "# reset the environment\n",
    "env_info = env.reset(train_mode=True)[brain_name]\n",
    "\n",
    "# number of actions\n",
    "action_size = brain.vector_action_space_size\n",
    "state = env_info.vector_observations[0]\n",
    "\n",
    "update_every = 10\n",
    "learn_every = 5\n",
    "\n",
    "agent = DqnAgent(state_size=len(state), action_size=action_size)\n",
    "\n",
    "scores = []\n",
    "loses = []\n",
    "action_takens = []\n",
    "\n",
    "for episode in range(3000):\n",
    "    done = False\n",
    "    score = 0\n",
    "    loss = 0\n",
    "    action_taken = []\n",
    "\n",
    "    env_info = env.reset(train_mode=True)[brain_name]\n",
    "    action_size = brain.vector_action_space_size\n",
    "    state = env_info.vector_observations[0]\n",
    "\n",
    "    while True:\n",
    "        action = agent.act(state)                     # ask agent action selection\n",
    "        env_info = env.step(action)[brain_name]                # send the action to the environment\n",
    "\n",
    "        next_state = env_info.vector_observations[0]           # get the next state\n",
    "        reward = env_info.rewards[0]                           # get the reward\n",
    "        done = env_info.local_done[0]                          # see if episode has finished\n",
    "        \n",
    "        transition_info = (state, action, reward, next_state, done)\n",
    "        agent.memory.add_recollection(transition_info)\n",
    "\n",
    "        score += reward\n",
    "        action_taken.append(action)\n",
    "\n",
    "        if done:\n",
    "            scores.append(score)\n",
    "            loses.append(loss)\n",
    "            action_takens += action_taken\n",
    "            break\n",
    "\n",
    "        state = next_state        \n",
    "\n",
    "    if episode % learn_every == 0:\n",
    "        samples = agent.memory.sample()\n",
    "        loss += agent.learn(samples)\n",
    "\n",
    "    if episode % update_every == 0:\n",
    "        plot(scores, loses, action_takens)\n",
    "        print('Episode: {} - '.format(episode), end=\"\")\n",
    "        print('Averaged Score of the last {} episodes : {}'.format(update_every, np.mean(scores[-update_every:]).round(2)))\n",
    "\n",
    "env.close()"
   ]
  },
  {
   "cell_type": "code",
   "execution_count": null,
   "metadata": {},
   "outputs": [],
   "source": []
  }
 ],
 "metadata": {
  "kernelspec": {
   "display_name": "rl-vbm",
   "language": "python",
   "name": "rl-vbm"
  },
  "language_info": {
   "codemirror_mode": {
    "name": "ipython",
    "version": 3
   },
   "file_extension": ".py",
   "mimetype": "text/x-python",
   "name": "python",
   "nbconvert_exporter": "python",
   "pygments_lexer": "ipython3",
   "version": "3.6.3"
  }
 },
 "nbformat": 4,
 "nbformat_minor": 2
}