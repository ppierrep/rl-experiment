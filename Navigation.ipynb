{
 "cells": [
  {
   "cell_type": "markdown",
   "metadata": {},
   "source": [
    "# Navigation\n",
    "\n",
    "---\n",
    "\n",
    "In this notebook, you will learn how to use the Unity ML-Agents environment for the first project of the [Deep Reinforcement Learning Nanodegree](https://www.udacity.com/course/deep-reinforcement-learning-nanodegree--nd893).\n",
    "\n",
    "### 1. Start the Environment\n",
    "\n",
    "We begin by importing some necessary packages.  If the code cell below returns an error, please revisit the project instructions to double-check that you have installed [Unity ML-Agents](https://github.com/Unity-Technologies/ml-agents/blob/master/docs/Installation.md) and [NumPy](http://www.numpy.org/)."
   ]
  },
  {
   "cell_type": "code",
   "execution_count": 1,
   "metadata": {
    "scrolled": true
   },
   "outputs": [],
   "source": [
    "from unityagents import UnityEnvironment\n",
    "import numpy as np"
   ]
  },
  {
   "cell_type": "markdown",
   "metadata": {},
   "source": [
    "Next, we will start the environment!  **_Before running the code cell below_**, change the `file_name` parameter to match the location of the Unity environment that you downloaded.\n",
    "\n",
    "- **Mac**: `\"path/to/Banana.app\"`\n",
    "- **Windows** (x86): `\"path/to/Banana_Windows_x86/Banana.exe\"`\n",
    "- **Windows** (x86_64): `\"path/to/Banana_Windows_x86_64/Banana.exe\"`\n",
    "- **Linux** (x86): `\"path/to/Banana_Linux/Banana.x86\"`\n",
    "- **Linux** (x86_64): `\"path/to/Banana_Linux/Banana.x86_64\"`\n",
    "- **Linux** (x86, headless): `\"path/to/Banana_Linux_NoVis/Banana.x86\"`\n",
    "- **Linux** (x86_64, headless): `\"path/to/Banana_Linux_NoVis/Banana.x86_64\"`\n",
    "\n",
    "For instance, if you are using a Mac, then you downloaded `Banana.app`.  If this file is in the same folder as the notebook, then the line below should appear as follows:\n",
    "```\n",
    "env = UnityEnvironment(file_name=\"Banana.app\")\n",
    "```"
   ]
  },
  {
   "cell_type": "code",
   "execution_count": 2,
   "metadata": {},
   "outputs": [
    {
     "name": "stderr",
     "output_type": "stream",
     "text": [
      "INFO:unityagents:\n",
      "'Academy' started successfully!\n",
      "Unity Academy name: Academy\n",
      "        Number of Brains: 1\n",
      "        Number of External Brains : 1\n",
      "        Lesson number : 0\n",
      "        Reset Parameters :\n",
      "\t\t\n",
      "Unity brain name: BananaBrain\n",
      "        Number of Visual Observations (per agent): 0\n",
      "        Vector Observation space type: continuous\n",
      "        Vector Observation space size (per agent): 37\n",
      "        Number of stacked Vector Observation: 1\n",
      "        Vector Action space type: discrete\n",
      "        Vector Action space size (per agent): 4\n",
      "        Vector Action descriptions: , , , \n"
     ]
    }
   ],
   "source": [
    "env = UnityEnvironment(file_name=\"env/Banana_Linux_NoVis/Banana.x86\")"
   ]
  },
  {
   "cell_type": "markdown",
   "metadata": {},
   "source": [
    "Environments contain **_brains_** which are responsible for deciding the actions of their associated agents. Here we check for the first brain available, and set it as the default brain we will be controlling from Python."
   ]
  },
  {
   "cell_type": "code",
   "execution_count": 3,
   "metadata": {},
   "outputs": [],
   "source": [
    "# get the default brain\n",
    "brain_name = env.brain_names[0]\n",
    "brain = env.brains[brain_name]"
   ]
  },
  {
   "cell_type": "markdown",
   "metadata": {},
   "source": [
    "### 2. Examine the State and Action Spaces\n",
    "\n",
    "The simulation contains a single agent that navigates a large environment.  At each time step, it has four actions at its disposal:\n",
    "- `0` - walk forward \n",
    "- `1` - walk backward\n",
    "- `2` - turn left\n",
    "- `3` - turn right\n",
    "\n",
    "The state space has `37` dimensions and contains the agent's velocity, along with ray-based perception of objects around agent's forward direction.  A reward of `+1` is provided for collecting a yellow banana, and a reward of `-1` is provided for collecting a blue banana. \n",
    "\n",
    "Run the code cell below to print some information about the environment."
   ]
  },
  {
   "cell_type": "code",
   "execution_count": 4,
   "metadata": {},
   "outputs": [
    {
     "name": "stdout",
     "output_type": "stream",
     "text": [
      "Number of agents: 1\n",
      "Number of actions: 4\n",
      "States look like: [1.         0.         0.         0.         0.84408134 0.\n",
      " 0.         1.         0.         0.0748472  0.         1.\n",
      " 0.         0.         0.25755    1.         0.         0.\n",
      " 0.         0.74177343 0.         1.         0.         0.\n",
      " 0.25854847 0.         0.         1.         0.         0.09355672\n",
      " 0.         1.         0.         0.         0.31969345 0.\n",
      " 0.        ]\n",
      "States have length: 37\n"
     ]
    }
   ],
   "source": [
    "# reset the environment\n",
    "env_info = env.reset(train_mode=False)[brain_name]\n",
    "\n",
    "# number of agents in the environment\n",
    "print('Number of agents:', len(env_info.agents))\n",
    "\n",
    "# number of actions\n",
    "action_size = brain.vector_action_space_size\n",
    "print('Number of actions:', action_size)\n",
    "\n",
    "# examine the state space \n",
    "state = env_info.vector_observations[0]\n",
    "print('States look like:', state)\n",
    "state_size = len(state)\n",
    "print('States have length:', state_size)"
   ]
  },
  {
   "cell_type": "markdown",
   "metadata": {},
   "source": [
    "### 3. Take Random Actions in the Environment\n",
    "\n",
    "In the next code cell, you will learn how to use the Python API to control the agent and receive feedback from the environment.\n",
    "\n",
    "Once this cell is executed, you will watch the agent's performance, if it selects an action (uniformly) at random with each time step.  A window should pop up that allows you to observe the agent, as it moves through the environment.  \n",
    "\n",
    "Of course, as part of the project, you'll have to change the code so that the agent is able to use its experience to gradually choose better actions when interacting with the environment!"
   ]
  },
  {
   "cell_type": "markdown",
   "metadata": {},
   "source": [
    "env.close()"
   ]
  },
  {
   "cell_type": "markdown",
   "metadata": {},
   "source": [
    "### 4. It's Your Turn!\n",
    "\n",
    "Now it's your turn to train your own agent to solve the environment!  When training the environment, set `train_mode=True`, so that the line for resetting the environment looks like the following:\n",
    "```python\n",
    "env_info = env.reset(train_mode=True)[brain_name]\n",
    "```"
   ]
  },
  {
   "cell_type": "code",
   "execution_count": 5,
   "metadata": {},
   "outputs": [],
   "source": [
    "from agent import DqnAgent"
   ]
  },
  {
   "cell_type": "code",
   "execution_count": 6,
   "metadata": {},
   "outputs": [],
   "source": [
    "import torch"
   ]
  },
  {
   "cell_type": "code",
   "execution_count": 7,
   "metadata": {},
   "outputs": [],
   "source": [
    "import torch\n",
    "from torch import nn\n",
    "from torch.nn import functional\n",
    "import random\n",
    "import numpy as np\n",
    "# from torch.utils.tensorboard import SummaryWriter\n",
    "\n",
    "\n",
    "device = torch.device(\"cuda:0\" if torch.cuda.is_available() else \"cpu\")\n",
    "\n",
    "\n",
    "# Experiment hyperparameters\n",
    "LR = 0.001\n",
    "EPS = 0.1\n",
    "ALPHA = 0.2\n",
    "GAMMA = 0.99\n",
    "\n",
    "# tensorboard\n",
    "# writer = SummaryWriter()\n",
    "\n",
    "class DqnAgent():\n",
    "    '''Agent that will interact with our environnement'''\n",
    "\n",
    "    def __init__(self, state_size, action_size, seed=None):\n",
    "        if seed:\n",
    "            self.seed = random.seed(seed)\n",
    "\n",
    "        self.state_size = state_size\n",
    "        self.action_size = action_size\n",
    "        \n",
    "        # Network\n",
    "        self.qnetwork = QNetwork(state_size=state_size, action_size=action_size).to(device)\n",
    "        self.optimizer = torch.optim.SGD(self.qnetwork.parameters(), lr=LR)\n",
    "\n",
    "    def learn(self, transition_info, done):\n",
    "        '''\n",
    "            Update the policy of the agent from one step infos.\n",
    "            Input:\n",
    "                transition_info(tuple): Tuple of the format (s, a, r, s')\n",
    "        '''\n",
    "        state, action, reward, next_state = transition_info\n",
    "        \n",
    "        # Get old estimate of the q_values according to doing old action while being in the old state. \n",
    "        Qva = self.qnetwork(state)\n",
    "        \n",
    "        # Get new estimated q values in states s' while still following policy.\n",
    "        max_espected_value = torch.max(self.qnetwork(next_state).detach())\n",
    "        \n",
    "        # if done, then there is no next Q value estimate to make.\n",
    "        max_espected_value = (1 - done) * max_espected_value\n",
    "        \n",
    "        update_loss = Qva + ALPHA * (reward + GAMMA * max_espected_value - Qva)\n",
    "        \n",
    "        # reseting optimizer at each update step\n",
    "        self.optimizer.zero_grad()\n",
    "        Qva.backward(update_loss.data.unsqueeze(1))\n",
    "\n",
    "        # update\n",
    "        self.optimizer.step()\n",
    "\n",
    "        \n",
    "    def act(self, state):\n",
    "        '''\n",
    "            Select an action based on inference from the state following an e-greedy policy.\n",
    "            Input:\n",
    "                state(np.Array): The representation of the state from the environnement.\n",
    "            Return:\n",
    "                action(int): Action\n",
    "        '''\n",
    "        actions = self.qnetwork.forward(state)\n",
    "\n",
    "        if random.random() > EPS:\n",
    "            # Select highest Q values action\n",
    "            action = np.argmax(np.argmax(actions.detach().numpy()))\n",
    "        else:\n",
    "            # Select a random actions\n",
    "            action = random.choice(np.arange(self.action_size))\n",
    "\n",
    "        return action\n",
    "\n",
    "\n",
    "class QNetwork(torch.nn.Module):\n",
    "    \"\"\"Actor (Policy) Model.\"\"\"\n",
    "\n",
    "    def __init__(self, state_size, action_size, **params):\n",
    "        super(QNetwork, self).__init__()\n",
    "\n",
    "        # self state input, 64 output\n",
    "        self.lin1 = nn.Linear(state_size, 64)\n",
    "        self.lin2 = nn.Linear(64, 64)\n",
    "        self.lin3 = nn.Linear(64, action_size)\n",
    "\n",
    "        self.criterion = nn.CrossEntropyLoss()\n",
    "\n",
    "    def forward(self, state):\n",
    "        # convert state to tensor\n",
    "        state = torch.from_numpy(state).float().to(device)  # unsqueeze ?\n",
    "\n",
    "        x = functional.relu(self.lin1(state))\n",
    "        x = functional.relu(self.lin2(x))\n",
    "        x = functional.relu(self.lin3(x))\n",
    "\n",
    "        return x\n"
   ]
  },
  {
   "cell_type": "code",
   "execution_count": 8,
   "metadata": {},
   "outputs": [],
   "source": [
    "network = DqnAgent(state_size=len(state), action_size=action_size)"
   ]
  },
  {
   "cell_type": "code",
   "execution_count": null,
   "metadata": {
    "scrolled": true
   },
   "outputs": [
    {
     "name": "stdout",
     "output_type": "stream",
     "text": [
      "Episode: 0 - Averaged Score 0.0\n",
      "Episode: 10 - Averaged Score 0.73\n"
     ]
    }
   ],
   "source": [
    "\n",
    "scores = []\n",
    "loses = []\n",
    "\n",
    "# Instanciate a new agent.\n",
    "agent = DqnAgent(state_size=len(state), action_size=action_size)\n",
    "\n",
    "for episode in range(200):\n",
    "    done = False\n",
    "    score = 0\n",
    "    \n",
    "    env_info = env.reset(train_mode=True)[brain_name]\n",
    "    action_size = brain.vector_action_space_size\n",
    "    state = env_info.vector_observations[0]\n",
    "\n",
    "    while True:\n",
    "        action = agent.act(state)                              # ask agent action selection\n",
    "        env_info = env.step(action)[brain_name]                # send the action to the environment\n",
    "\n",
    "        next_state = env_info.vector_observations[0]           # get the next state\n",
    "        reward = env_info.rewards[0]                           # get the reward\n",
    "        done = env_info.local_done[0]                          # see if episode has finished\n",
    "        score += reward                                        # update the score\n",
    "        transition_info = (state, action, reward, next_state)\n",
    "\n",
    "        agent.learn(transition_info, done)                     # learn from transition\n",
    "        score += reward\n",
    "\n",
    "        if done:\n",
    "            scores.append(score)\n",
    "            break\n",
    "\n",
    "        state = next_state                                     # roll over the state to next time step\n",
    "\n",
    "    if episode % 10 == 0:\n",
    "        print('Episode: {} - '.format(episode), end=\"\")\n",
    "        print('Averaged Score {}'.format(np.mean(scores).round(2)))\n",
    "\n",
    "# env.close()\n",
    "\n",
    "# Tensorboard\n",
    "#     writer.add_scalar('Averaged Score', np.mean(scores), episode)\n"
   ]
  },
  {
   "cell_type": "code",
   "execution_count": null,
   "metadata": {},
   "outputs": [],
   "source": []
  }
 ],
 "metadata": {
  "kernelspec": {
   "display_name": "Python 3",
   "language": "python",
   "name": "python3"
  },
  "language_info": {
   "codemirror_mode": {
    "name": "ipython",
    "version": 3
   },
   "file_extension": ".py",
   "mimetype": "text/x-python",
   "name": "python",
   "nbconvert_exporter": "python",
   "pygments_lexer": "ipython3",
   "version": "3.6.9"
  }
 },
 "nbformat": 4,
 "nbformat_minor": 2
}
